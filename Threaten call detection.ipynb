{
 "cells": [
  {
   "cell_type": "code",
   "execution_count": 5,
   "id": "1d6b6322",
   "metadata": {},
   "outputs": [],
   "source": [
    "import speech_recognition as sr\n",
    "import IPython"
   ]
  },
  {
   "cell_type": "code",
   "execution_count": 35,
   "id": "d8c3c2ab",
   "metadata": {},
   "outputs": [
    {
     "name": "stdout",
     "output_type": "stream",
     "text": [
      "Collecting pyaudio\n",
      "  Downloading PyAudio-0.2.13-cp310-cp310-win_amd64.whl (164 kB)\n",
      "     ------------------------------------ 164.1/164.1 kB 754.0 kB/s eta 0:00:00\n",
      "Installing collected packages: pyaudio\n",
      "Successfully installed pyaudio-0.2.13\n"
     ]
    }
   ],
   "source": [
    "!pip install pyaudio"
   ]
  },
  {
   "cell_type": "code",
   "execution_count": 57,
   "id": "2e1113da",
   "metadata": {},
   "outputs": [
    {
     "name": "stdout",
     "output_type": "stream",
     "text": [
      "Speak something...\n",
      "You said: I will kill you\n"
     ]
    }
   ],
   "source": [
    "\n",
    "\n",
    "# Initialize recognizer\n",
    "r = sr.Recognizer()\n",
    "\n",
    "# Capture audio from microphone\n",
    "with sr.Microphone() as source:\n",
    "    print(\"Speak something...\")\n",
    "    audio = r.listen(source)\n",
    "\n",
    "# Convert audio to text\n",
    "try:\n",
    "    text = r.recognize_google(audio)\n",
    "    print(\"You said: \" + text)\n",
    "except sr.UnknownValueError:\n",
    "    print(\"Sorry, I could not understand what you said\")\n",
    "except sr.RequestError:\n",
    "    print(\"Sorry, my speech service is currently down\")\n"
   ]
  },
  {
   "cell_type": "code",
   "execution_count": 56,
   "id": "773c5b44",
   "metadata": {},
   "outputs": [
    {
     "data": {
      "text/plain": [
       "'male_path = \"hello.wav\"\\nIPython.display.Audio(male_path)'"
      ]
     },
     "execution_count": 56,
     "metadata": {},
     "output_type": "execute_result"
    }
   ],
   "source": [
    "'''male_path = \"hello.wav\"\n",
    "IPython.display.Audio(male_path)'''"
   ]
  },
  {
   "cell_type": "code",
   "execution_count": 58,
   "id": "5d080fa9",
   "metadata": {},
   "outputs": [
    {
     "data": {
      "text/plain": [
       "\"def speech_to_text(audio_file):\\n  with sr.AudioFile(audio_file) as source:\\n    audio_text = r.listen(source)\\n    try:\\n        text = r.recognize_google(audio_text)\\n        print('Converting audio transcripts into text ...')\\n    except:\\n         print('Sorry.. run again...')\\n  return text\""
      ]
     },
     "execution_count": 58,
     "metadata": {},
     "output_type": "execute_result"
    }
   ],
   "source": [
    "'''def speech_to_text(audio_file):\n",
    "  with sr.AudioFile(audio_file) as source:\n",
    "    audio_text = r.listen(source)\n",
    "    try:\n",
    "        text = r.recognize_google(audio_text)\n",
    "        print('Converting audio transcripts into text ...')\n",
    "    except:\n",
    "         print('Sorry.. run again...')\n",
    "  return text'''"
   ]
  },
  {
   "cell_type": "code",
   "execution_count": 39,
   "id": "5fa8444e",
   "metadata": {},
   "outputs": [],
   "source": [
    "l=text\n"
   ]
  },
  {
   "cell_type": "code",
   "execution_count": 40,
   "id": "2dbbfc75",
   "metadata": {},
   "outputs": [],
   "source": [
    "import chardet\n",
    "\n",
    "# Detect the encoding of the file\n",
    "with open('zomato.csv', 'rb') as f:\n",
    "    result = chardet.detect(f.read())\n",
    "encoding = result['encoding']\n"
   ]
  },
  {
   "cell_type": "code",
   "execution_count": 41,
   "id": "c66f2958",
   "metadata": {},
   "outputs": [
    {
     "name": "stdout",
     "output_type": "stream",
     "text": [
      "Accuracy: 79.18552036199095\n"
     ]
    }
   ],
   "source": [
    "import pandas as pd\n",
    "from sklearn.feature_extraction.text import CountVectorizer\n",
    "from sklearn.linear_model import LogisticRegression\n",
    "from sklearn.model_selection import train_test_split\n",
    "from sklearn.metrics import accuracy_score\n",
    "# Load the data\n",
    "df = pd.read_csv('zomato.csv',encoding=encoding)\n",
    "df = df.dropna()\n",
    "df = df.sample(frac=1, random_state=42)\n",
    "# Split the data into training and testing sets\n",
    "X = df['Review']\n",
    "y = df['Liked']\n",
    "X_train, X_test, y_train, y_test = train_test_split(X, y, test_size=0.2, random_state=42)\n",
    "# Convert text to bag-of-words features\n",
    "vectorizer = CountVectorizer()\n",
    "X_train = vectorizer.fit_transform(X_train)\n",
    "X_test = vectorizer.transform(X_test)\n",
    "# Train a logistic regression model\n",
    "clf = LogisticRegression()\n",
    "clf.fit(X_train, y_train)\n",
    "# Make predictions on the test set\n",
    "y_pred = clf.predict(X_test)\n",
    "# Calculate accuracy score\n",
    "acc = accuracy_score(y_test, y_pred)\n",
    "print('Accuracy:', acc*100)\n"
   ]
  },
  {
   "cell_type": "code",
   "execution_count": 66,
   "id": "944c5746",
   "metadata": {},
   "outputs": [
    {
     "name": "stdout",
     "output_type": "stream",
     "text": [
      "Accuracy: 78.73303167420815\n"
     ]
    }
   ],
   "source": [
    "import pandas as pd\n",
    "from sklearn.feature_extraction.text import CountVectorizer\n",
    "from sklearn.tree import DecisionTreeClassifier\n",
    "from sklearn.model_selection import train_test_split\n",
    "from sklearn.metrics import accuracy_score\n",
    "\n",
    "# Load the data\n",
    "df = pd.read_csv('zomato.csv', encoding=encoding)\n",
    "df = df.dropna()\n",
    "df = df.sample(frac=1, random_state=42)\n",
    "\n",
    "# Split the data into training and testing sets\n",
    "X = df['Review']\n",
    "y = df['Liked']\n",
    "X_train, X_test, y_train, y_test = train_test_split(X, y, test_size=0.2, random_state=42)\n",
    "\n",
    "# Convert text to bag-of-words features\n",
    "vectorizer = CountVectorizer()\n",
    "X_train = vectorizer.fit_transform(X_train)\n",
    "X_test = vectorizer.transform(X_test)\n",
    "\n",
    "# Train a decision tree classifier\n",
    "clf = DecisionTreeClassifier(max_depth=8)\n",
    "clf.fit(X_train, y_train)\n",
    "\n",
    "# Make predictions on the test set\n",
    "y_pred = clf.predict(X_test)\n",
    "\n",
    "# Calculate accuracy score\n",
    "acc = accuracy_score(y_test, y_pred)\n",
    "print('Accuracy:', acc*100)\n"
   ]
  },
  {
   "cell_type": "code",
   "execution_count": 50,
   "id": "b4481321",
   "metadata": {},
   "outputs": [
    {
     "name": "stdout",
     "output_type": "stream",
     "text": [
      "Accuracy: 80.09049773755656\n"
     ]
    }
   ],
   "source": [
    "import pandas as pd\n",
    "from sklearn.feature_extraction.text import CountVectorizer\n",
    "from sklearn.ensemble import RandomForestClassifier\n",
    "from sklearn.model_selection import train_test_split\n",
    "from sklearn.metrics import accuracy_score\n",
    "\n",
    "# Load the data\n",
    "df = pd.read_csv('zomato.csv', encoding=encoding)\n",
    "df = df.dropna()\n",
    "df = df.sample(frac=1, random_state=42)\n",
    "\n",
    "# Split the data into training and testing sets\n",
    "X = df['Review']\n",
    "y = df['Liked']\n",
    "X_train, X_test, y_train, y_test = train_test_split(X, y, test_size=0.2, random_state=42)\n",
    "\n",
    "# Convert text to bag-of-words features\n",
    "vectorizer = CountVectorizer()\n",
    "X_train = vectorizer.fit_transform(X_train)\n",
    "X_test = vectorizer.transform(X_test)\n",
    "\n",
    "# Train a random forest classifier\n",
    "clf = RandomForestClassifier(n_estimators=100, max_depth=10, random_state=42)\n",
    "clf.fit(X_train, y_train)\n",
    "\n",
    "# Make predictions on the test set\n",
    "y_pred = clf.predict(X_test)\n",
    "\n",
    "# Calculate accuracy score\n",
    "acc = accuracy_score(y_test, y_pred)\n",
    "print('Accuracy:', acc*100)\n"
   ]
  },
  {
   "cell_type": "code",
   "execution_count": 51,
   "id": "e9b04749",
   "metadata": {},
   "outputs": [
    {
     "name": "stdout",
     "output_type": "stream",
     "text": [
      "Accuracy: 77.37556561085974\n"
     ]
    }
   ],
   "source": [
    "import pandas as pd\n",
    "from sklearn.feature_extraction.text import CountVectorizer\n",
    "from sklearn.naive_bayes import MultinomialNB\n",
    "from sklearn.model_selection import train_test_split\n",
    "from sklearn.metrics import accuracy_score\n",
    "\n",
    "# Load the data\n",
    "df = pd.read_csv('zomato.csv', encoding=encoding)\n",
    "df = df.dropna()\n",
    "df = df.sample(frac=1, random_state=42)\n",
    "\n",
    "# Split the data into training and testing sets\n",
    "X = df['Review']\n",
    "y = df['Liked']\n",
    "X_train, X_test, y_train, y_test = train_test_split(X, y, test_size=0.2, random_state=42)\n",
    "\n",
    "# Convert text to bag-of-words features\n",
    "vectorizer = CountVectorizer()\n",
    "X_train = vectorizer.fit_transform(X_train)\n",
    "X_test = vectorizer.transform(X_test)\n",
    "\n",
    "# Train a Naive Bayes classifier\n",
    "clf = MultinomialNB()\n",
    "clf.fit(X_train, y_train)\n",
    "\n",
    "# Make predictions on the test set\n",
    "y_pred = clf.predict(X_test)\n",
    "\n",
    "# Calculate accuracy score\n",
    "acc = accuracy_score(y_test, y_pred)\n",
    "print('Accuracy:', acc*100)\n"
   ]
  },
  {
   "cell_type": "code",
   "execution_count": 42,
   "id": "9f763422",
   "metadata": {},
   "outputs": [
    {
     "name": "stdout",
     "output_type": "stream",
     "text": [
      "0\n"
     ]
    }
   ],
   "source": [
    "raw_text =l\n",
    "raw_text_bow = vectorizer.transform([raw_text])\n",
    "# Use the model to predict the sentiment of the raw text\n",
    "sentiment = clf.predict(raw_text_bow)[0]\n",
    "print(sentiment)"
   ]
  },
  {
   "cell_type": "code",
   "execution_count": null,
   "id": "e60abaf9",
   "metadata": {},
   "outputs": [],
   "source": [
    "import pywhatkit\n",
    "import datetime\n",
    "registernumber=[\"+918978119486\",\"+918919169361\"]\n",
    "'''for i in range(3):\n",
    "    sample =\"+91\"+input()\n",
    "    registernumber.append(sample)'''\n",
    "if sentiment==0:\n",
    "    for j in range(3):\n",
    "        number=registernumber[j]\n",
    "        message = \"it's a threaten call\"\n",
    "        pywhatkit.sendwhatmsg(number, message, datetime.datetime.now().hour, datetime.datetime.now().minute + 1)\n",
    "else:\n",
    "    print(\"it's not a threaten call\")"
   ]
  },
  {
   "cell_type": "code",
   "execution_count": null,
   "id": "74e3d5da",
   "metadata": {},
   "outputs": [],
   "source": []
  },
  {
   "cell_type": "code",
   "execution_count": null,
   "id": "08016514",
   "metadata": {},
   "outputs": [],
   "source": []
  }
 ],
 "metadata": {
  "kernelspec": {
   "display_name": "Python 3 (ipykernel)",
   "language": "python",
   "name": "python3"
  },
  "language_info": {
   "codemirror_mode": {
    "name": "ipython",
    "version": 3
   },
   "file_extension": ".py",
   "mimetype": "text/x-python",
   "name": "python",
   "nbconvert_exporter": "python",
   "pygments_lexer": "ipython3",
   "version": "3.10.9"
  }
 },
 "nbformat": 4,
 "nbformat_minor": 5
}
